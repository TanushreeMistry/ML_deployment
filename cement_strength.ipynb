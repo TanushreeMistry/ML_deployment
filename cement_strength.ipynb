{
 "cells": [
  {
   "cell_type": "code",
   "execution_count": 1,
   "id": "4842f367",
   "metadata": {},
   "outputs": [],
   "source": [
    "import pandas as pd\n",
    "import numpy as np\n",
    "import matplotlib.pyplot as plt\n",
    "%matplotlib inline"
   ]
  },
  {
   "cell_type": "code",
   "execution_count": 24,
   "id": "115ce3e1",
   "metadata": {},
   "outputs": [],
   "source": [
    "from sklearn.ensemble import RandomForestRegressor\n",
    "from sklearn.metrics import mean_squared_error\n",
    "from sklearn.metrics import mean_absolute_error\n",
    "from sklearn.metrics import r2_score\n",
    "from sklearn.preprocessing import StandardScaler\n",
    "from sklearn.preprocessing import MinMaxScaler\n",
    "from sklearn.pipeline import Pipeline\n",
    "import pickle"
   ]
  },
  {
   "cell_type": "code",
   "execution_count": 25,
   "id": "549afd25",
   "metadata": {},
   "outputs": [],
   "source": [
    "data=pd.read_csv(\"Material Compressive Strength Experimental Data.csv\")"
   ]
  },
  {
   "cell_type": "code",
   "execution_count": 26,
   "id": "e2fc13b6",
   "metadata": {},
   "outputs": [
    {
     "name": "stdout",
     "output_type": "stream",
     "text": [
      "<class 'pandas.core.frame.DataFrame'>\n",
      "RangeIndex: 6139 entries, 0 to 6138\n",
      "Data columns (total 9 columns):\n",
      " #   Column                      Non-Null Count  Dtype  \n",
      "---  ------                      --------------  -----  \n",
      " 0   Material Quantity (gm)      6030 non-null   float64\n",
      " 1   Additive Catalyst (gm)      6030 non-null   float64\n",
      " 2   Ash Component (gm)          6030 non-null   float64\n",
      " 3   Water Mix (ml)              6030 non-null   float64\n",
      " 4   Plasticizer (gm)            6030 non-null   float64\n",
      " 5   Moderate Aggregator         6030 non-null   float64\n",
      " 6   Refined Aggregator          6030 non-null   float64\n",
      " 7   Formulation Duration (hrs)  6030 non-null   float64\n",
      " 8   Compression Strength MPa    6139 non-null   float64\n",
      "dtypes: float64(9)\n",
      "memory usage: 431.8 KB\n"
     ]
    }
   ],
   "source": [
    "data.info()"
   ]
  },
  {
   "cell_type": "code",
   "execution_count": 27,
   "id": "bd54bd15",
   "metadata": {},
   "outputs": [
    {
     "data": {
      "text/html": [
       "<div>\n",
       "<style scoped>\n",
       "    .dataframe tbody tr th:only-of-type {\n",
       "        vertical-align: middle;\n",
       "    }\n",
       "\n",
       "    .dataframe tbody tr th {\n",
       "        vertical-align: top;\n",
       "    }\n",
       "\n",
       "    .dataframe thead th {\n",
       "        text-align: right;\n",
       "    }\n",
       "</style>\n",
       "<table border=\"1\" class=\"dataframe\">\n",
       "  <thead>\n",
       "    <tr style=\"text-align: right;\">\n",
       "      <th></th>\n",
       "      <th>Material Quantity (gm)</th>\n",
       "      <th>Additive Catalyst (gm)</th>\n",
       "      <th>Ash Component (gm)</th>\n",
       "      <th>Water Mix (ml)</th>\n",
       "      <th>Plasticizer (gm)</th>\n",
       "      <th>Moderate Aggregator</th>\n",
       "      <th>Refined Aggregator</th>\n",
       "      <th>Formulation Duration (hrs)</th>\n",
       "      <th>Compression Strength MPa</th>\n",
       "    </tr>\n",
       "  </thead>\n",
       "  <tbody>\n",
       "    <tr>\n",
       "      <th>count</th>\n",
       "      <td>6030.000000</td>\n",
       "      <td>6030.000000</td>\n",
       "      <td>6030.000000</td>\n",
       "      <td>6030.000000</td>\n",
       "      <td>6030.000000</td>\n",
       "      <td>6030.000000</td>\n",
       "      <td>6030.000000</td>\n",
       "      <td>6030.000000</td>\n",
       "      <td>6139.000000</td>\n",
       "    </tr>\n",
       "    <tr>\n",
       "      <th>mean</th>\n",
       "      <td>383.642297</td>\n",
       "      <td>196.699846</td>\n",
       "      <td>111.856252</td>\n",
       "      <td>224.296955</td>\n",
       "      <td>17.651085</td>\n",
       "      <td>998.669332</td>\n",
       "      <td>811.832398</td>\n",
       "      <td>174.408504</td>\n",
       "      <td>56.851430</td>\n",
       "    </tr>\n",
       "    <tr>\n",
       "      <th>std</th>\n",
       "      <td>149.994316</td>\n",
       "      <td>133.329220</td>\n",
       "      <td>74.241117</td>\n",
       "      <td>41.545751</td>\n",
       "      <td>11.687965</td>\n",
       "      <td>97.732677</td>\n",
       "      <td>112.813539</td>\n",
       "      <td>112.415173</td>\n",
       "      <td>16.124932</td>\n",
       "    </tr>\n",
       "    <tr>\n",
       "      <th>min</th>\n",
       "      <td>124.440000</td>\n",
       "      <td>0.000000</td>\n",
       "      <td>0.000000</td>\n",
       "      <td>148.600000</td>\n",
       "      <td>0.000000</td>\n",
       "      <td>821.540000</td>\n",
       "      <td>609.230000</td>\n",
       "      <td>16.250000</td>\n",
       "      <td>2.610000</td>\n",
       "    </tr>\n",
       "    <tr>\n",
       "      <th>25%</th>\n",
       "      <td>256.030000</td>\n",
       "      <td>78.210000</td>\n",
       "      <td>44.582500</td>\n",
       "      <td>190.387500</td>\n",
       "      <td>7.922500</td>\n",
       "      <td>918.437500</td>\n",
       "      <td>717.447500</td>\n",
       "      <td>70.300000</td>\n",
       "      <td>47.085000</td>\n",
       "    </tr>\n",
       "    <tr>\n",
       "      <th>50%</th>\n",
       "      <td>377.405000</td>\n",
       "      <td>192.320000</td>\n",
       "      <td>115.250000</td>\n",
       "      <td>225.700000</td>\n",
       "      <td>16.345000</td>\n",
       "      <td>997.985000</td>\n",
       "      <td>810.260000</td>\n",
       "      <td>163.105000</td>\n",
       "      <td>59.790000</td>\n",
       "    </tr>\n",
       "    <tr>\n",
       "      <th>75%</th>\n",
       "      <td>511.522500</td>\n",
       "      <td>307.650000</td>\n",
       "      <td>174.257500</td>\n",
       "      <td>257.447500</td>\n",
       "      <td>27.667500</td>\n",
       "      <td>1079.827500</td>\n",
       "      <td>905.857500</td>\n",
       "      <td>272.602500</td>\n",
       "      <td>69.845000</td>\n",
       "    </tr>\n",
       "    <tr>\n",
       "      <th>max</th>\n",
       "      <td>658.800000</td>\n",
       "      <td>438.470000</td>\n",
       "      <td>244.120000</td>\n",
       "      <td>301.340000</td>\n",
       "      <td>39.280000</td>\n",
       "      <td>1174.360000</td>\n",
       "      <td>1018.050000</td>\n",
       "      <td>380.250000</td>\n",
       "      <td>92.510000</td>\n",
       "    </tr>\n",
       "  </tbody>\n",
       "</table>\n",
       "</div>"
      ],
      "text/plain": [
       "       Material Quantity (gm)  Additive Catalyst (gm)  Ash Component (gm)  \\\n",
       "count             6030.000000             6030.000000         6030.000000   \n",
       "mean               383.642297              196.699846          111.856252   \n",
       "std                149.994316              133.329220           74.241117   \n",
       "min                124.440000                0.000000            0.000000   \n",
       "25%                256.030000               78.210000           44.582500   \n",
       "50%                377.405000              192.320000          115.250000   \n",
       "75%                511.522500              307.650000          174.257500   \n",
       "max                658.800000              438.470000          244.120000   \n",
       "\n",
       "       Water Mix (ml)  Plasticizer (gm)  Moderate Aggregator  \\\n",
       "count     6030.000000       6030.000000          6030.000000   \n",
       "mean       224.296955         17.651085           998.669332   \n",
       "std         41.545751         11.687965            97.732677   \n",
       "min        148.600000          0.000000           821.540000   \n",
       "25%        190.387500          7.922500           918.437500   \n",
       "50%        225.700000         16.345000           997.985000   \n",
       "75%        257.447500         27.667500          1079.827500   \n",
       "max        301.340000         39.280000          1174.360000   \n",
       "\n",
       "       Refined Aggregator  Formulation Duration (hrs)  \\\n",
       "count         6030.000000                 6030.000000   \n",
       "mean           811.832398                  174.408504   \n",
       "std            112.813539                  112.415173   \n",
       "min            609.230000                   16.250000   \n",
       "25%            717.447500                   70.300000   \n",
       "50%            810.260000                  163.105000   \n",
       "75%            905.857500                  272.602500   \n",
       "max           1018.050000                  380.250000   \n",
       "\n",
       "       Compression Strength MPa  \n",
       "count               6139.000000  \n",
       "mean                  56.851430  \n",
       "std                   16.124932  \n",
       "min                    2.610000  \n",
       "25%                   47.085000  \n",
       "50%                   59.790000  \n",
       "75%                   69.845000  \n",
       "max                   92.510000  "
      ]
     },
     "execution_count": 27,
     "metadata": {},
     "output_type": "execute_result"
    }
   ],
   "source": [
    "data.describe()"
   ]
  },
  {
   "cell_type": "code",
   "execution_count": 28,
   "id": "acdb01fd",
   "metadata": {},
   "outputs": [],
   "source": [
    "li=list(data.columns)\n",
    "data1=data.copy()\n",
    "for i in li:\n",
    "    data1[i]=data[i].fillna(data[i].mean())\n",
    "#     print(data1[i].isnull().sum())\n",
    "# we will use data1 dateset in our model"
   ]
  },
  {
   "cell_type": "code",
   "execution_count": 29,
   "id": "8f0b670c",
   "metadata": {},
   "outputs": [],
   "source": [
    "inp=data1.drop(\"Compression Strength MPa\",axis=1)\n",
    "out=data1[[\"Compression Strength MPa\"]]\n"
   ]
  },
  {
   "cell_type": "code",
   "execution_count": 30,
   "id": "14f8267f",
   "metadata": {},
   "outputs": [],
   "source": [
    "from sklearn.model_selection import train_test_split\n",
    "x_train,x_test,y_train,y_test=train_test_split(inp,out,test_size=0.2,random_state=797)"
   ]
  },
  {
   "cell_type": "code",
   "execution_count": 31,
   "id": "9d5421f1",
   "metadata": {
    "scrolled": true
   },
   "outputs": [
    {
     "name": "stdout",
     "output_type": "stream",
     "text": [
      "size of train data (4911, 8),(4911, 1)\n",
      "size of test data (1228, 8),(1228, 1)\n"
     ]
    }
   ],
   "source": [
    "print(f\"size of train data {x_train.shape},{y_train.shape}\")\n",
    "print(f\"size of test data {x_test.shape},{y_test.shape}\")"
   ]
  },
  {
   "cell_type": "code",
   "execution_count": 32,
   "id": "01029ddc",
   "metadata": {},
   "outputs": [],
   "source": [
    "Rf=RandomForestRegressor()"
   ]
  },
  {
   "cell_type": "code",
   "execution_count": 40,
   "id": "754b69b8",
   "metadata": {},
   "outputs": [],
   "source": [
    "pipeline=Pipeline(steps=[\n",
    "    (\"standardscaler\",StandardScaler()),\n",
    "    (\"minmaxscaler\",MinMaxScaler()),\n",
    "    (\"model\",Rf)\n",
    "] )"
   ]
  },
  {
   "cell_type": "code",
   "execution_count": 41,
   "id": "e6a2ba29",
   "metadata": {},
   "outputs": [
    {
     "name": "stderr",
     "output_type": "stream",
     "text": [
      "c:\\Users\\tanushree\\Desktop\\ML_project\\ML_deployment\\env\\Lib\\site-packages\\sklearn\\base.py:1151: DataConversionWarning: A column-vector y was passed when a 1d array was expected. Please change the shape of y to (n_samples,), for example using ravel().\n",
      "  return fit_method(estimator, *args, **kwargs)\n"
     ]
    },
    {
     "data": {
      "text/html": [
       "<style>#sk-container-id-3 {color: black;}#sk-container-id-3 pre{padding: 0;}#sk-container-id-3 div.sk-toggleable {background-color: white;}#sk-container-id-3 label.sk-toggleable__label {cursor: pointer;display: block;width: 100%;margin-bottom: 0;padding: 0.3em;box-sizing: border-box;text-align: center;}#sk-container-id-3 label.sk-toggleable__label-arrow:before {content: \"▸\";float: left;margin-right: 0.25em;color: #696969;}#sk-container-id-3 label.sk-toggleable__label-arrow:hover:before {color: black;}#sk-container-id-3 div.sk-estimator:hover label.sk-toggleable__label-arrow:before {color: black;}#sk-container-id-3 div.sk-toggleable__content {max-height: 0;max-width: 0;overflow: hidden;text-align: left;background-color: #f0f8ff;}#sk-container-id-3 div.sk-toggleable__content pre {margin: 0.2em;color: black;border-radius: 0.25em;background-color: #f0f8ff;}#sk-container-id-3 input.sk-toggleable__control:checked~div.sk-toggleable__content {max-height: 200px;max-width: 100%;overflow: auto;}#sk-container-id-3 input.sk-toggleable__control:checked~label.sk-toggleable__label-arrow:before {content: \"▾\";}#sk-container-id-3 div.sk-estimator input.sk-toggleable__control:checked~label.sk-toggleable__label {background-color: #d4ebff;}#sk-container-id-3 div.sk-label input.sk-toggleable__control:checked~label.sk-toggleable__label {background-color: #d4ebff;}#sk-container-id-3 input.sk-hidden--visually {border: 0;clip: rect(1px 1px 1px 1px);clip: rect(1px, 1px, 1px, 1px);height: 1px;margin: -1px;overflow: hidden;padding: 0;position: absolute;width: 1px;}#sk-container-id-3 div.sk-estimator {font-family: monospace;background-color: #f0f8ff;border: 1px dotted black;border-radius: 0.25em;box-sizing: border-box;margin-bottom: 0.5em;}#sk-container-id-3 div.sk-estimator:hover {background-color: #d4ebff;}#sk-container-id-3 div.sk-parallel-item::after {content: \"\";width: 100%;border-bottom: 1px solid gray;flex-grow: 1;}#sk-container-id-3 div.sk-label:hover label.sk-toggleable__label {background-color: #d4ebff;}#sk-container-id-3 div.sk-serial::before {content: \"\";position: absolute;border-left: 1px solid gray;box-sizing: border-box;top: 0;bottom: 0;left: 50%;z-index: 0;}#sk-container-id-3 div.sk-serial {display: flex;flex-direction: column;align-items: center;background-color: white;padding-right: 0.2em;padding-left: 0.2em;position: relative;}#sk-container-id-3 div.sk-item {position: relative;z-index: 1;}#sk-container-id-3 div.sk-parallel {display: flex;align-items: stretch;justify-content: center;background-color: white;position: relative;}#sk-container-id-3 div.sk-item::before, #sk-container-id-3 div.sk-parallel-item::before {content: \"\";position: absolute;border-left: 1px solid gray;box-sizing: border-box;top: 0;bottom: 0;left: 50%;z-index: -1;}#sk-container-id-3 div.sk-parallel-item {display: flex;flex-direction: column;z-index: 1;position: relative;background-color: white;}#sk-container-id-3 div.sk-parallel-item:first-child::after {align-self: flex-end;width: 50%;}#sk-container-id-3 div.sk-parallel-item:last-child::after {align-self: flex-start;width: 50%;}#sk-container-id-3 div.sk-parallel-item:only-child::after {width: 0;}#sk-container-id-3 div.sk-dashed-wrapped {border: 1px dashed gray;margin: 0 0.4em 0.5em 0.4em;box-sizing: border-box;padding-bottom: 0.4em;background-color: white;}#sk-container-id-3 div.sk-label label {font-family: monospace;font-weight: bold;display: inline-block;line-height: 1.2em;}#sk-container-id-3 div.sk-label-container {text-align: center;}#sk-container-id-3 div.sk-container {/* jupyter's `normalize.less` sets `[hidden] { display: none; }` but bootstrap.min.css set `[hidden] { display: none !important; }` so we also need the `!important` here to be able to override the default hidden behavior on the sphinx rendered scikit-learn.org. See: https://github.com/scikit-learn/scikit-learn/issues/21755 */display: inline-block !important;position: relative;}#sk-container-id-3 div.sk-text-repr-fallback {display: none;}</style><div id=\"sk-container-id-3\" class=\"sk-top-container\"><div class=\"sk-text-repr-fallback\"><pre>Pipeline(steps=[(&#x27;standardscaler&#x27;, StandardScaler()),\n",
       "                (&#x27;minmaxscaler&#x27;, MinMaxScaler()),\n",
       "                (&#x27;model&#x27;, RandomForestRegressor())])</pre><b>In a Jupyter environment, please rerun this cell to show the HTML representation or trust the notebook. <br />On GitHub, the HTML representation is unable to render, please try loading this page with nbviewer.org.</b></div><div class=\"sk-container\" hidden><div class=\"sk-item sk-dashed-wrapped\"><div class=\"sk-label-container\"><div class=\"sk-label sk-toggleable\"><input class=\"sk-toggleable__control sk-hidden--visually\" id=\"sk-estimator-id-9\" type=\"checkbox\" ><label for=\"sk-estimator-id-9\" class=\"sk-toggleable__label sk-toggleable__label-arrow\">Pipeline</label><div class=\"sk-toggleable__content\"><pre>Pipeline(steps=[(&#x27;standardscaler&#x27;, StandardScaler()),\n",
       "                (&#x27;minmaxscaler&#x27;, MinMaxScaler()),\n",
       "                (&#x27;model&#x27;, RandomForestRegressor())])</pre></div></div></div><div class=\"sk-serial\"><div class=\"sk-item\"><div class=\"sk-estimator sk-toggleable\"><input class=\"sk-toggleable__control sk-hidden--visually\" id=\"sk-estimator-id-10\" type=\"checkbox\" ><label for=\"sk-estimator-id-10\" class=\"sk-toggleable__label sk-toggleable__label-arrow\">StandardScaler</label><div class=\"sk-toggleable__content\"><pre>StandardScaler()</pre></div></div></div><div class=\"sk-item\"><div class=\"sk-estimator sk-toggleable\"><input class=\"sk-toggleable__control sk-hidden--visually\" id=\"sk-estimator-id-11\" type=\"checkbox\" ><label for=\"sk-estimator-id-11\" class=\"sk-toggleable__label sk-toggleable__label-arrow\">MinMaxScaler</label><div class=\"sk-toggleable__content\"><pre>MinMaxScaler()</pre></div></div></div><div class=\"sk-item\"><div class=\"sk-estimator sk-toggleable\"><input class=\"sk-toggleable__control sk-hidden--visually\" id=\"sk-estimator-id-12\" type=\"checkbox\" ><label for=\"sk-estimator-id-12\" class=\"sk-toggleable__label sk-toggleable__label-arrow\">RandomForestRegressor</label><div class=\"sk-toggleable__content\"><pre>RandomForestRegressor()</pre></div></div></div></div></div></div></div>"
      ],
      "text/plain": [
       "Pipeline(steps=[('standardscaler', StandardScaler()),\n",
       "                ('minmaxscaler', MinMaxScaler()),\n",
       "                ('model', RandomForestRegressor())])"
      ]
     },
     "execution_count": 41,
     "metadata": {},
     "output_type": "execute_result"
    }
   ],
   "source": [
    "pipeline.fit(x_train,y_train)"
   ]
  },
  {
   "cell_type": "code",
   "execution_count": 42,
   "id": "31880de8",
   "metadata": {},
   "outputs": [
    {
     "data": {
      "text/plain": [
       "array([56.8852, 61.0238, 56.8168, ..., 55.1063, 52.807 , 63.7744])"
      ]
     },
     "execution_count": 42,
     "metadata": {},
     "output_type": "execute_result"
    }
   ],
   "source": [
    "y_pred=pipeline.predict(x_test)\n",
    "y_pred"
   ]
  },
  {
   "cell_type": "code",
   "execution_count": 43,
   "id": "504358df",
   "metadata": {},
   "outputs": [
    {
     "data": {
      "text/plain": [
       "0.4346926037496305"
      ]
     },
     "execution_count": 43,
     "metadata": {},
     "output_type": "execute_result"
    }
   ],
   "source": [
    "score1=r2_score(y_test,y_pred)\n",
    "score1"
   ]
  },
  {
   "cell_type": "code",
   "execution_count": 44,
   "id": "a359adc4",
   "metadata": {},
   "outputs": [
    {
     "name": "stdout",
     "output_type": "stream",
     "text": [
      "mean squared error is  148.06325535123585\n",
      "mean absolute error is  9.640600557483685\n"
     ]
    }
   ],
   "source": [
    "print(\"mean squared error is \",mean_squared_error(y_test,y_pred))\n",
    "print(\"mean absolute error is \",mean_absolute_error(y_test,y_pred))\n"
   ]
  },
  {
   "cell_type": "code",
   "execution_count": 52,
   "id": "79b2ce01",
   "metadata": {},
   "outputs": [],
   "source": [
    "with open(\"pickle_cement.pkl\",\"wb\") as file:\n",
    "     pickle.dump(pipeline,file)\n",
    "with open(\"pickle_cement.pkl\",\"rb\") as file:\n",
    "     Rf_model = pickle.load(file)"
   ]
  },
  {
   "cell_type": "markdown",
   "id": "b8a1c8c9",
   "metadata": {},
   "source": []
  },
  {
   "cell_type": "code",
   "execution_count": 17,
   "id": "87d4e83b",
   "metadata": {},
   "outputs": [],
   "source": [
    "# pickle.dump(pipline,open(\"pickle_cement.pkl\",\"wb\"))\n",
    "# Rf_model=pickle.load(open(\"pickle_cement.pkl\",\"rb\"))"
   ]
  },
  {
   "cell_type": "code",
   "execution_count": 50,
   "id": "9d70d23d",
   "metadata": {},
   "outputs": [
    {
     "name": "stdout",
     "output_type": "stream",
     "text": [
      "(1, 8)\n"
     ]
    },
    {
     "data": {
      "text/plain": [
       "array([[ 441.63,  437.58,   92.38,  180.12,   10.19,  913.68, 1018.05,\n",
       "         372.63]])"
      ]
     },
     "execution_count": 50,
     "metadata": {},
     "output_type": "execute_result"
    }
   ],
   "source": [
    "list_=[441.63,437.58,92.38,180.12,10.19,913.68,1018.05,372.63]\n",
    "list_=np.array(list_).reshape(1,-1)\n",
    "print(list_.shape)\n",
    "list_"
   ]
  },
  {
   "cell_type": "code",
   "execution_count": 51,
   "id": "68b96a25",
   "metadata": {},
   "outputs": [
    {
     "name": "stderr",
     "output_type": "stream",
     "text": [
      "c:\\Users\\tanushree\\Desktop\\ML_project\\ML_deployment\\env\\Lib\\site-packages\\sklearn\\base.py:464: UserWarning: X does not have valid feature names, but StandardScaler was fitted with feature names\n",
      "  warnings.warn(\n"
     ]
    },
    {
     "data": {
      "text/plain": [
       "array([56.4423])"
      ]
     },
     "execution_count": 51,
     "metadata": {},
     "output_type": "execute_result"
    }
   ],
   "source": [
    " Rf_model.predict(list_)\n"
   ]
  }
 ],
 "metadata": {
  "kernelspec": {
   "display_name": "Python 3 (ipykernel)",
   "language": "python",
   "name": "python3"
  },
  "language_info": {
   "codemirror_mode": {
    "name": "ipython",
    "version": 3
   },
   "file_extension": ".py",
   "mimetype": "text/x-python",
   "name": "python",
   "nbconvert_exporter": "python",
   "pygments_lexer": "ipython3",
   "version": "3.11.5"
  }
 },
 "nbformat": 4,
 "nbformat_minor": 5
}
